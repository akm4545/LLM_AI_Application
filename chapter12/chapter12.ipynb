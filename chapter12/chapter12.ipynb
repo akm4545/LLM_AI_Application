{
 "nbformat": 4,
 "nbformat_minor": 0,
 "metadata": {
  "colab": {
   "provenance": []
  },
  "kernelspec": {
   "name": "python3",
   "display_name": "Python 3"
  },
  "language_info": {
   "name": "python"
  }
 },
 "cells": [
  {
   "cell_type": "code",
   "execution_count": null,
   "metadata": {
    "id": "4Zzs-hxZMeRz",
    "pycharm": {
     "name": "#%%\n"
    }
   },
   "outputs": [],
   "source": [
    "!pip install pinecone-client==3.2.2 sentence-transformers==2.7.0 datasets==2.19.0 faiss-cpu==1.8.0 transformers==4.40.1 openai==1.25.2 llama-index==0.10.34 llama-index-vector-stores-pinecone==0.1.6  -qqq"
   ]
  },
  {
   "cell_type": "markdown",
   "source": [
    "# **실습 데이터 다운로드**"
   ],
   "metadata": {
    "id": "pt_8RtUPMmx1",
    "pycharm": {
     "name": "#%% md\n"
    }
   }
  },
  {
   "cell_type": "code",
   "source": [
    "!wget ftp://ftp.irisa.fr/local/texmex/corpus/sift.tar.gz\n",
    "!tar -xf sift.tar.gz\n",
    "!mkdir data/sift1M -p\n",
    "!mv sift/* data/sift1M"
   ],
   "metadata": {
    "id": "UeyMxwJRMojU",
    "pycharm": {
     "name": "#%%\n"
    }
   },
   "execution_count": null,
   "outputs": []
  },
  {
   "cell_type": "markdown",
   "source": [
    "# **실습 데이터 불러오기**"
   ],
   "metadata": {
    "id": "1PYl8FQjNahx",
    "pycharm": {
     "name": "#%% md\n"
    }
   }
  },
  {
   "cell_type": "code",
   "source": [
    "import psutil\n",
    "\n",
    "def get_memory_usage_mb():\n",
    "  # 현재 실행 중인 프로세스 정보 가져오기\n",
    "  process = psutil.Process()\n",
    "  # 프로세스의 메모리 사용량 정보 가져오기\n",
    "  memory_info = process.memory_info()\n",
    "\n",
    "  # memory_info.rss -> Resident Set Size(RSS) -> 프로세스가 실제로 물리적 메모리에 로드된 크기\n",
    "  # 바이트를 MB로 변환\n",
    "  return memory_info.rss / (1024 * 1024)"
   ],
   "metadata": {
    "id": "EucR-YXmNc6_",
    "pycharm": {
     "name": "#%%\n"
    }
   },
   "execution_count": null,
   "outputs": []
  },
  {
   "cell_type": "code",
   "source": [
    "import time\n",
    "import faiss\n",
    "from faiss.contrib.datasets import DatasetSIFT1M\n",
    "\n",
    "# DatasetSIFT1M -> FAISS에서 제공하는 SIFT1M 데이터셋을 로드하는 클래스\n",
    "# SIFT1M -> 100만 개(1M) SIFT(Scale-Invariant Feature Transform) 벡터로 구성된 데이터셋\n",
    "# 이미지 검색, 유사도 검색 등의 벤치마킹에 많이 사용됨\n",
    "ds = DatasetSIFT1M()\n",
    "\n",
    "# 검색에 사용할 데이터\n",
    "xq = ds.get_queries()\n",
    "# 저장된 벡터 데이터\n",
    "xb = ds.get_database()\n",
    "# 질문에 대한 실제 정답 데이터\n",
    "gt = ds.get_groundtruth()"
   ],
   "metadata": {
    "id": "7-NrP04JUdUu",
    "pycharm": {
     "name": "#%%\n"
    }
   },
   "execution_count": null,
   "outputs": []
  },
  {
   "cell_type": "markdown",
   "source": [
    "# **데이터가 늘어날 때 색인/검색 시간, 메모리 사용량 변화**"
   ],
   "metadata": {
    "id": "-f5o-dWIUd_Y",
    "pycharm": {
     "name": "#%% md\n"
    }
   }
  },
  {
   "cell_type": "code",
   "source": [
    "k = 1\n",
    "# 벡터 차원 추출 (128)\n",
    "d = xq.shape[1]\n",
    "nq = 1000\n",
    "xq = xq[:nq]\n",
    "\n",
    "# i를 2씩 증가\n",
    "for i in range(1, 10, 2):\n",
    "  start_memory = get_memory_usage_mb()\n",
    "  start_indexing = time.time()\n",
    "\n",
    "  index = faiss.IndexFlatL2(d)\n",
    "  index.add(xb[:(i + 1) * 100000])\n",
    "\n",
    "  end_indexing = time.time()\n",
    "  end_memory = get_memory_usage_mb()\n",
    "\n",
    "  t0 = time.time()\n",
    "  D, I = index.search(xq, k)\n",
    "  t1 = time.time()\n",
    "\n",
    "  print(f\"데이터 {(i + 1) * 100000}개:\")\n",
    "  print(f\"색인: {(end_indexing - start_indexing) * 1000 :.3f} ms ({end_memory - start_memory:.3f} MB) 검색: {(t1 - t0) * 1000 / nq :.3f} ms\")"
   ],
   "metadata": {
    "id": "vGbPCUyrUh7h",
    "pycharm": {
     "name": "#%%\n"
    }
   },
   "execution_count": null,
   "outputs": []
  }
 ]
}