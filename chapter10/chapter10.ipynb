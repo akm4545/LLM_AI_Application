{
 "nbformat": 4,
 "nbformat_minor": 0,
 "metadata": {
  "colab": {
   "provenance": []
  },
  "kernelspec": {
   "name": "python3",
   "display_name": "Python 3"
  },
  "language_info": {
   "name": "python"
  }
 },
 "cells": [
  {
   "cell_type": "code",
   "execution_count": 2,
   "metadata": {
    "colab": {
     "base_uri": "https://localhost:8080/"
    },
    "id": "4JKEg0cWjl-4",
    "outputId": "e413c895-1d9d-4c86-f4d7-b355f4860934",
    "pycharm": {
     "name": "#%%\n"
    }
   },
   "outputs": [
    {
     "output_type": "stream",
     "name": "stdout",
     "text": [
      "Requirement already satisfied: pip in /usr/local/lib/python3.11/dist-packages (24.1.2)\n",
      "Collecting pip\n",
      "  Downloading pip-25.0.1-py3-none-any.whl.metadata (3.7 kB)\n",
      "Downloading pip-25.0.1-py3-none-any.whl (1.8 MB)\n",
      "\u001B[2K   \u001B[90m━━━━━━━━━━━━━━━━━━━━━━━━━━━━━━━━━━━━━━━━\u001B[0m \u001B[32m1.8/1.8 MB\u001B[0m \u001B[31m35.3 MB/s\u001B[0m eta \u001B[36m0:00:00\u001B[0m\n",
      "\u001B[?25hInstalling collected packages: pip\n",
      "  Attempting uninstall: pip\n",
      "    Found existing installation: pip 24.1.2\n",
      "    Uninstalling pip-24.1.2:\n",
      "      Successfully uninstalled pip-24.1.2\n",
      "Successfully installed pip-25.0.1\n"
     ]
    }
   ],
   "source": [
    "!pip install --upgrade pip\n",
    "!pip install transformers==4.40.1 datasets==2.19.0 sentence-transformers==2.7.0 faiss-cpu==1.8.0 llama-index==0.10.34 llama-index-embeddings-huggingface==0.2.0 -qqq"
   ]
  },
  {
   "cell_type": "markdown",
   "source": [
    "# **문장 임베딩을 활용한 단어 간 유사도 계산**"
   ],
   "metadata": {
    "id": "H8FV7Kokj2eb",
    "pycharm": {
     "name": "#%% md\n"
    }
   }
  },
  {
   "cell_type": "code",
   "source": [
    "from sentence_transformers import SentenceTransformer\n",
    "from sklearn.metrics.pairwise import cosine_similarity\n",
    "\n",
    "smodel = SentenceTransformer('snunlp/KR-SBERT-V40K-klueNLI-augSTS')\n",
    "dense_embeddings = smodel.encode(['학교', '공부', '운동'])\n",
    "cosine_similarity(dense_embeddings) #코사인 유사도\n",
    "# array([[1.0000001 , 0.5950744 , 0.32537547],\n",
    "#       [0.5950744 , 1.0000002 , 0.54595673],\n",
    "#       [0.32537547, 0.54595673, 0.99999976]], dtype=float32)"
   ],
   "metadata": {
    "colab": {
     "base_uri": "https://localhost:8080/"
    },
    "id": "TpTxv5oWj5bH",
    "outputId": "829af6d4-c66a-4fa7-ec7b-9b9282098fb9",
    "pycharm": {
     "name": "#%%\n"
    }
   },
   "execution_count": 4,
   "outputs": [
    {
     "output_type": "stream",
     "name": "stderr",
     "text": [
      "/usr/local/lib/python3.11/dist-packages/huggingface_hub/file_download.py:795: FutureWarning: `resume_download` is deprecated and will be removed in version 1.0.0. Downloads always resume when possible. If you want to force a new download, use `force_download=True`.\n",
      "  warnings.warn(\n"
     ]
    },
    {
     "output_type": "execute_result",
     "data": {
      "text/plain": [
       "array([[0.99999994, 0.59507436, 0.32537556],\n",
       "       [0.59507436, 1.        , 0.54595697],\n",
       "       [0.32537556, 0.54595697, 0.99999994]], dtype=float32)"
      ]
     },
     "metadata": {},
     "execution_count": 4
    }
   ]
  },
  {
   "cell_type": "markdown",
   "source": [
    "# **원핫 인코딩의 한계**"
   ],
   "metadata": {
    "id": "TEmK5aFx7NGA",
    "pycharm": {
     "name": "#%% md\n"
    }
   }
  },
  {
   "cell_type": "code",
   "source": [
    "import numpy as np\n",
    "from sklearn.metrics.pairwise import cosine_similarity\n",
    "\n",
    "word_dict = {\"school\": np.array([[1, 0, 0]]), \"study\": np.array([[0, 1, 0]]), \"workout\": np.array([[0, 0, 1]])}\n",
    "\n",
    "# 두 단어 사이의 코사인 유사도 계산하기\n",
    "# cosine_similarity(A, B) -> 코사인 유사도 측정 메서드\n",
    "cosine_school_study = cosine_similarity(word_dict['school'], word_dict['study']) # 0\n",
    "cosine_school_workout = cosine_similarity(word_dict['school'], word_dict['workout']) # 0"
   ],
   "metadata": {
    "id": "murH0a-97PR7",
    "pycharm": {
     "name": "#%%\n"
    }
   },
   "execution_count": 5,
   "outputs": []
  }
 ]
}