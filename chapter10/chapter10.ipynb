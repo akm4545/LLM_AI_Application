{
 "nbformat": 4,
 "nbformat_minor": 0,
 "metadata": {
  "colab": {
   "provenance": []
  },
  "kernelspec": {
   "name": "python3",
   "display_name": "Python 3"
  },
  "language_info": {
   "name": "python"
  }
 },
 "cells": [
  {
   "cell_type": "code",
   "execution_count": null,
   "metadata": {
    "id": "4JKEg0cWjl-4",
    "pycharm": {
     "name": "#%%\n"
    }
   },
   "outputs": [],
   "source": [
    "!pip install transformers==4.40.1 datasets==2.19.0 sentence-transformers==2.7.0 faiss-cpu==1.8.0 llama-index==0.10.34 llama-index-embeddings-huggingface==0.2.0 -qqq"
   ]
  },
  {
   "cell_type": "markdown",
   "source": [
    "# **문장 임베딩을 활용한 단어 간 유사도 계산**"
   ],
   "metadata": {
    "id": "H8FV7Kokj2eb",
    "pycharm": {
     "name": "#%% md\n"
    }
   }
  },
  {
   "cell_type": "code",
   "source": [
    "from sentence_transformers import SentenceTransformer\n",
    "from sklearn.metrics.pairwise import cosine_similarity\n",
    "\n",
    "smodel = SentenceTransformer('snunlp/KR-SBERT-V40K-klueNLI-augSTS')\n",
    "dense_embedding = smodel.encode(['학교', '공부', '운동'])\n",
    "cosine_similarity(dense_embeddings) #코사인 유사도\n",
    "# array([[1.0000001 , 0.5950744 , 0.32537547],\n",
    "#       [0.5950744 , 1.0000002 , 0.54595673],\n",
    "#       [0.32537547, 0.54595673, 0.99999976]], dtype=float32)"
   ],
   "metadata": {
    "id": "TpTxv5oWj5bH",
    "pycharm": {
     "name": "#%%\n"
    }
   },
   "execution_count": null,
   "outputs": []
  }
 ]
}