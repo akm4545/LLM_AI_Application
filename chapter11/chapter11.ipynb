{
 "nbformat": 4,
 "nbformat_minor": 0,
 "metadata": {
  "colab": {
   "provenance": []
  },
  "kernelspec": {
   "name": "python3",
   "display_name": "Python 3"
  },
  "language_info": {
   "name": "python"
  }
 },
 "cells": [
  {
   "cell_type": "code",
   "execution_count": null,
   "metadata": {
    "id": "nLL66bUL9cuQ",
    "pycharm": {
     "name": "#%%\n"
    }
   },
   "outputs": [],
   "source": [
    "!pip install sentence-transformers==2.7.0 datasets==2.19.0 huggingface_hub==0.23.0 faiss-cpu==1.8.0 -qqq"
   ]
  },
  {
   "cell_type": "markdown",
   "source": [
    "# **사전 학습된 언어 모델을 불러와 문장 임베딩 모델 만들기**"
   ],
   "metadata": {
    "id": "Ibq_Lnhp9jOP",
    "pycharm": {
     "name": "#%% md\n"
    }
   }
  },
  {
   "cell_type": "code",
   "source": [
    "from sentence_transformers import SentenceTransformer, models\n",
    "\n",
    "# 허깅페이스 임베딩 모델 로드\n",
    "transformer_model = models.Transformer('klue/roberta-base')\n",
    "\n",
    "# 풀링층 생성\n",
    "pooling_layer = models.Pooling(\n",
    "    transformer_model.get_word_embedding_dimension(),\n",
    "    # 평균 풀링 모드\n",
    "    pooling_mode_mean_tokens=True\n",
    ")\n",
    "\n",
    "embedding_model = SentenceTransformer(modules=[transformer_model, pooling_layer])"
   ],
   "metadata": {
    "id": "StOVNlp69oW7",
    "pycharm": {
     "name": "#%%\n"
    }
   },
   "execution_count": null,
   "outputs": []
  },
  {
   "cell_type": "markdown",
   "source": [
    "# **실습 데이터셋 다운로드 및 확인**"
   ],
   "metadata": {
    "id": "8jKDay_oBa2W",
    "pycharm": {
     "name": "#%% md\n"
    }
   }
  },
  {
   "cell_type": "code",
   "source": [
    "from datasets import load_dataset\n",
    "\n",
    "klue_sts_train = load_dataset('klue', 'sts', split='train')\n",
    "klue_sts_test = load_dataset('klue', 'sts', split='validation')\n",
    "klue_sts_train[0]\n",
    "\n",
    "# {'guid': 'klue-sts-v1_train_00000',\n",
    "#  'source': 'airbnb-rtt',\n",
    "#  'sentence1': '숙소 위치는 찾기 쉽고 일반적인 한국의 반지하 숙소입니다.',\n",
    "#  'sentence2': '숙박시설의 위치는 쉽게 찾을 수 있고 한국의 대표적인 반지하 숙박시설입니다.',\n",
    "#  'labels': {'label': 3.7, 'real-label': 3.714285714285714, 'binary-label': 1}}"
   ],
   "metadata": {
    "id": "FgFrDCbiBdCv",
    "pycharm": {
     "name": "#%%\n"
    }
   },
   "execution_count": null,
   "outputs": []
  }
 ]
}