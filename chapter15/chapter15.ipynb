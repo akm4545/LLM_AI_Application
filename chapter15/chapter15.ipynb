{
 "nbformat": 4,
 "nbformat_minor": 0,
 "metadata": {
  "colab": {
   "provenance": []
  },
  "kernelspec": {
   "name": "python3",
   "display_name": "Python 3"
  },
  "language_info": {
   "name": "python"
  }
 },
 "cells": [
  {
   "cell_type": "code",
   "execution_count": null,
   "metadata": {
    "id": "8C1hlNizD4Ym",
    "pycharm": {
     "name": "#%%\n"
    }
   },
   "outputs": [],
   "source": [
    "!pip install \"pyautogen[retrievechat]==0.2.6\" -qqq"
   ]
  },
  {
   "cell_type": "markdown",
   "source": [
    "# **OpenAI API 키 설정**"
   ],
   "metadata": {
    "id": "B8iG_NSzw2Q4",
    "pycharm": {
     "name": "#%% md\n"
    }
   }
  },
  {
   "cell_type": "code",
   "source": [
    "import json\n",
    "\n",
    "openai_api_key = \"자신의 API 키 입력\"\n",
    "\n",
    "with open('OAI_CONFIG_LIST.json', 'w') as f:\n",
    "  config_list = [\n",
    "      {\n",
    "          \"model\": \"gpt-4-turbo-preview\",\n",
    "          \"api_key\": openai_api_key\n",
    "      },\n",
    "      {\n",
    "          \"model\": \"gpt-4o\",\n",
    "          \"api_key\": openai_api_key,\n",
    "      },\n",
    "      {\n",
    "          \"model\": \"dall-e-3\",\n",
    "          \"api_key\": openai_api_key,\n",
    "      }\n",
    "  ]\n",
    "\n",
    "  json.dump(config_list, f)"
   ],
   "metadata": {
    "id": "Cpp9tXVXw42X",
    "pycharm": {
     "name": "#%%\n"
    }
   },
   "execution_count": null,
   "outputs": []
  },
  {
   "cell_type": "markdown",
   "source": [
    "# **에이전트에 사용할 설정 불러오기**"
   ],
   "metadata": {
    "id": "7vpU96cj3Phc",
    "pycharm": {
     "name": "#%% md\n"
    }
   }
  },
  {
   "cell_type": "code",
   "source": [
    "import autogen\n",
    "\n",
    "config_list = autogen.config_list_from_json(\n",
    "    \"OAI_CONFIG_LIST.json\",\n",
    "    file_location=\".\",\n",
    "    # 특정 모델만 사용하도록 필터링\n",
    "    filter_dict={\n",
    "        \"model\": {\"gpt-4-turbo-preview\"},\n",
    "    },\n",
    ")\n",
    "\n",
    "llm_config = {\n",
    "    \"config_list\": config_list,\n",
    "    \"temperature\": 0,\n",
    "}"
   ],
   "metadata": {
    "id": "qetleL3h3SGA",
    "pycharm": {
     "name": "#%%\n"
    }
   },
   "execution_count": null,
   "outputs": []
  },
  {
   "cell_type": "markdown",
   "source": [
    "# **AutoGen의 핵심 구성요소인 UserProxyAgent와 AssistantAgent**"
   ],
   "metadata": {
    "id": "uwvBgkcG5F3A",
    "pycharm": {
     "name": "#%% md\n"
    }
   }
  },
  {
   "cell_type": "code",
   "source": [
    "from autogen import AssistantAgent, UserProxyAgent\n",
    "\n",
    "# AI 모델을 실행하는 역할\n",
    "# AssistantAgent(\"에이전트 이름\", AI 모델 설정)\n",
    "assistant = AssistantAgent(\"assistant\", llm_config=llm_config)\n",
    "# 사용자를 대신해 명령을 내리는 에이전트\n",
    "# 터미널 명령을 실행하거나 AI가 생성한 코드를 실행할 수도 있다\n",
    "user_proxy = UserProxyAgent(\"user_proxy\", # 에이전트 이름\n",
    "                            # 종료 조건 설정\n",
    "                            # 현재 조건은 content 값이 있는지 확인하고\n",
    "                            # rstrip() -> 오른쪽 공백 제거\n",
    "                            # 문자열이 TERMINATE로 끝나면 종료\n",
    "                            is_termination_msg=lambda x: x.get(\"content\", \"\") and x.get(\"content\", \"\").rstrip().endswith(\"TERMINATE\"),\n",
    "                            # 사용자가 직접 입력할 수 없도록 설정\n",
    "                            # \"ALWAYS\"로 설정하면 AI가 사용자에게 입력을 요청할 수도 있음\n",
    "                            human_input_mode=\"NEVER\",\n",
    "                            # \"work_dir\": \"coding\" -> 코드를 실행할 작업 폴더\n",
    "                            # \"user_docker\": False 도커환경에서 실행하지 않도록 설정\n",
    "                            code_execution_config={\"work_dir\": \"coding\", \"user_docker\": False})"
   ],
   "metadata": {
    "id": "nNjejav-5Kna",
    "pycharm": {
     "name": "#%%\n"
    }
   },
   "execution_count": null,
   "outputs": []
  },
  {
   "cell_type": "markdown",
   "source": [
    "# **삼성전자의 3개월 주식 가격 그래프를 그리는 작업 실행**"
   ],
   "metadata": {
    "id": "yvxdqKu8_y_a",
    "pycharm": {
     "name": "#%% md\n"
    }
   }
  },
  {
   "cell_type": "code",
   "source": [
    "# 에이전트와 대화를 시작\n",
    "user_proxy.initiate_chat(assistant, message=\"\"\"\n",
    "삼성전자의 지난 3개월 주식 가격 그래프를 그려서 samsung_stock_price.png 파일로 저장해줘.\n",
    "plotly 라이브러리를 사용하고 그래프 아래를 투명한 녹색으로 채워줘.\n",
    "값을 잘 확인할 수 있도록 y축은 구간 최소값에서 시작하도록 해줘.\n",
    "이미지 비율은 보기 좋게 적절히 설정해줘.\n",
    "\"\"\")"
   ],
   "metadata": {
    "id": "A_08eXLr_518",
    "pycharm": {
     "name": "#%%\n"
    }
   },
   "execution_count": null,
   "outputs": []
  }
 ]
}