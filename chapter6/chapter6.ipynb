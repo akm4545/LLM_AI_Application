{
 "nbformat": 4,
 "nbformat_minor": 0,
 "metadata": {
  "colab": {
   "provenance": []
  },
  "kernelspec": {
   "name": "python3",
   "display_name": "Python 3"
  },
  "language_info": {
   "name": "python"
  }
 },
 "cells": [
  {
   "cell_type": "code",
   "execution_count": null,
   "metadata": {
    "id": "qXrJ2E10nbRl",
    "pycharm": {
     "name": "#%%\n"
    }
   },
   "outputs": [],
   "source": [
    "!pip install transformers==4.40.1 bitsandbytes==0.43.1 accelerate==0.29.3 datasets==2.19.0 tiktoken==0.6.0 huggingface_hub==0.22.2 autotrain-advanced==0.7.77 -qqq\n",
    "!pip install --upgrade huggingface-hub -qqq"
   ]
  },
  {
   "cell_type": "markdown",
   "source": [
    "# **SQL 프롬프트**"
   ],
   "metadata": {
    "id": "xAB8RrM-n3r9",
    "pycharm": {
     "name": "#%% md\n"
    }
   }
  },
  {
   "cell_type": "code",
   "source": [
    "def make_prompt(ddl, question, query=''):\n",
    "  prompt = f\"\"\"당신은 SQL을 생성하는 SQL 봇입니다. DDL의 테이블을 활용한 Question을 해결할 수 있는 SQL 쿼리를 생성하세요.\n",
    "\n",
    "### DDL:\n",
    "{ddl}\n",
    "\n",
    "### Question:\n",
    "{question}\n",
    "\n",
    "###SQL:\n",
    "{query}\"\"\"\n",
    "\n",
    "  return prompt"
   ],
   "metadata": {
    "id": "G0jZGTRsn6Bq",
    "pycharm": {
     "name": "#%%\n"
    }
   },
   "execution_count": null,
   "outputs": []
  },
  {
   "cell_type": "markdown",
   "source": [
    "# **평가를 위한 요청 jsonl 작성 함수**"
   ],
   "metadata": {
    "id": "Zas-xHa8tfY5",
    "pycharm": {
     "name": "#%% md\n"
    }
   }
  },
  {
   "cell_type": "code",
   "source": [
    "import json\n",
    "import pandas as pd\n",
    "from pathlib import Path\n",
    "\n",
    "def make_requests_for_gpt_evaluation(df, filename, dir='requests'):\n",
    "  # 경로 확인시 -> 없으면 생성\n",
    "  if not Path(dir).exists():\n",
    "    Path(dir).mkdir(parents=True)\n",
    "\n",
    "  prompts = []\n",
    "\n",
    "  # 데이터프레임 읽기\n",
    "  for idx, row in df.iterrows():\n",
    "    # GPT 요청 JSON 리스트 생성\n",
    "    # response_format: GPT가 JSON 형식으로 응답하도록\n",
    "    prompts.append(\"\"\"Based on below DDL and Question, evaluate gen_sql can resolve Question. If gen_sql and gt_sql do equal job, return \"yes\" else return \"no\". Output JSON Format: {\"resolve_yn\": \"\"}\"\"\" + f\"\"\"\n",
    "\n",
    "DDL: {row['context']}\n",
    "Question: {row['question']}\n",
    "gt_sql: {row['answer']}\n",
    "gen_sql: {row['gen_sql']}\"\"\"\n",
    ")\n",
    "  # prompts 리스트를 이용하여 GPT 요청 JSON 리스트 생성\n",
    "  # response_format: -> GPT 응답 데이터 형식\n",
    "  # message: GPT 시스템 역할 지정 및 평가 요청 내용 포함\n",
    "  jobs = [{\"model\": \"gpt-4-turbo-preview\", \"response_format\" : { \"type\": \"json_object\" }, \"messages\": [{\"role\": \"system\", \"content\": prompt}]} for prompt in prompts]\n",
    "\n",
    "  # 쓰기 모드로 파일 열기\n",
    "  with open(Path(dir, filename), \"w\") as f:\n",
    "    for job in jobs:\n",
    "      # json.dumps -> 파이썬 객체를 JSON 문자열로 변환하는 함수\n",
    "      json_string = json.dumps(job)\n",
    "      f.write(json_string + \"\\n\")"
   ],
   "metadata": {
    "id": "vOGrzBN3ti2T",
    "pycharm": {
     "name": "#%%\n"
    }
   },
   "execution_count": null,
   "outputs": []
  },
  {
   "cell_type": "markdown",
   "source": [
    "# **비동기 요청 명령**"
   ],
   "metadata": {
    "id": "I5sQs6DV-PUQ",
    "pycharm": {
     "name": "#%% md\n"
    }
   }
  },
  {
   "cell_type": "code",
   "source": [
    "import os\n",
    "os.environ[\"OPENAI_API_KEY\"] = \"자신의 OpenAI API 키 입력\"\n",
    "\n",
    "python api_request_parallel_processor.py \\\n",
    "  --requests_filepath {요청 파일 경로} \\\n",
    "  --save_filepath {생성할 결과 파일 경로} \\\n",
    "  --request_url https://api.opneai.com/v1/chat/completions \\\n",
    "  --max_requests_per_minute 300 \\\n",
    "  --max_tokens_per_minute 100000 \\\n",
    "  --token_encoding_name cl100k_base \\\n",
    "  --max_attempts 5 \\\n",
    "  --logging_level 20"
   ],
   "metadata": {
    "id": "MoELEPoe-UAc",
    "pycharm": {
     "name": "#%%\n"
    }
   },
   "execution_count": null,
   "outputs": []
  },
  {
   "cell_type": "markdown",
   "source": [
    "# **결과 jsonl 파일을 csv로 변환하는 함수**"
   ],
   "metadata": {
    "id": "ctB_7Wn4GO4b",
    "pycharm": {
     "name": "#%% md\n"
    }
   }
  },
  {
   "cell_type": "code",
   "source": [
    "def change_jsonl_to_csv(input_file, output_file, prompt_column=\"prompt\", response_column=\"response\"):\n",
    "  prompts = []\n",
    "  responses = []\n",
    "\n",
    "  with open(input_file, 'r') as json_file:\n",
    "    # 파일을 한줄씩 읽음\n",
    "    for data in json_file:\n",
    "      # json.loads(data) -> 한 줄의 JSON 데이터를 파이썬 객체(리스트 또는 딕셔너리)로 변환\n",
    "      prompts.append(json.loads(data)[0]['message'][0]['content'])\n",
    "      responses.append(json.loads(data)[1]['choices'][0]['message']['content'])\n",
    "\n",
    "  # 판다스 데이터프레임 생성\n",
    "  # 컬럼명: 데이터 형식\n",
    "  df = pd.DataFrame({prompt_column: prompts, response_column: responses})\n",
    "  # CSV 파일로 저장\n",
    "  df.to_csv(output_file, index=False)\n",
    "\n",
    "  return df"
   ],
   "metadata": {
    "id": "sqqFmTkUGTUV",
    "pycharm": {
     "name": "#%%\n"
    }
   },
   "execution_count": null,
   "outputs": []
  }
 ]
}