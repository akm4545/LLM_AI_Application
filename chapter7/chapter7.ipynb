{
 "nbformat": 4,
 "nbformat_minor": 0,
 "metadata": {
  "colab": {
   "provenance": []
  },
  "kernelspec": {
   "name": "python3",
   "display_name": "Python 3"
  },
  "language_info": {
   "name": "python"
  }
 },
 "cells": [
  {
   "cell_type": "code",
   "execution_count": null,
   "metadata": {
    "id": "4hH8XgfXG6UC",
    "pycharm": {
     "name": "#%%\n"
    }
   },
   "outputs": [],
   "source": [
    "!pip install transformers==4.40.1 accelerate==0.30.0 bitsansbytes==0.43.1 auto-gptq==0.7.1 autoawq==0.2.5 optimum==1.19.1 -qqq"
   ]
  },
  {
   "cell_type": "code",
   "source": [
    "import transformers\n",
    "import accelerate\n",
    "import bitsandbytes\n",
    "import auto_gptq\n",
    "import awq"
   ],
   "metadata": {
    "id": "xueCdTGOXQC4",
    "pycharm": {
     "name": "#%%\n"
    }
   },
   "execution_count": null,
   "outputs": []
  },
  {
   "cell_type": "markdown",
   "source": [
    "# **비츠앤바이츠 양자화 모델 불러오기**"
   ],
   "metadata": {
    "id": "05rYW7yDXXjd",
    "pycharm": {
     "name": "#%% md\n"
    }
   }
  },
  {
   "cell_type": "code",
   "source": [
    "from transformers import AutoModelForCausalLM, BitsAndBytesConfig\n",
    "\n",
    "# 8비트 양자화 모델 불러오기\n",
    "bnb_config_8bit = BitsAndBytesConfig(load_in_8bit=True)\n",
    "model_8bit = AutoModelForCausalLM.from_pretrained(\"facebook/opt-350m\", quantization_config=bnb_config_8bit)\n",
    "\n",
    "# 4비트 양자화 모델 불러오기\n",
    "bnb_config_4bit = BitsAndBytesConfig(load_in_4bit=True, bnb_4bit_quant_type=\"nf4\")\n",
    "model_4bit = AutoModelForCausalLM.from_pretrained(\"facebook/opt-350m\", low_cpu_mem_usage=True, quantization_config=bnb_config_4bit)"
   ],
   "metadata": {
    "id": "86hRQDfcXZ1d",
    "pycharm": {
     "name": "#%%\n"
    }
   },
   "execution_count": null,
   "outputs": []
  },
  {
   "cell_type": "markdown",
   "source": [
    "# **GPTQ 양자화 수행 코드**"
   ],
   "metadata": {
    "id": "VyicLc8k7s6W",
    "pycharm": {
     "name": "#%% md\n"
    }
   }
  },
  {
   "cell_type": "code",
   "source": [
    "from transformers import AutoModelForCausalLM, AutoTokenizer, GPTQConfig\n",
    "\n",
    "model_id = \"facebook/opt-125m\"\n",
    "tokenizer = AutoTokenizer.from_pretrained(model_id)\n",
    "# dataset=\"c4\" -> Common Crawl에서 수집된 대규모 텍스트 데이터셋\n",
    "quantization_config = GPTQConfig(bits=4, dataset=\"c4\", tokenizer=tokenizer)\n",
    "\n",
    "model = AutoModelForCausalLM.from_pretrained(model_id, device_map=\"auto\", quantization_config=quantization_config)"
   ],
   "metadata": {
    "id": "RyIlnB6r7vaN",
    "pycharm": {
     "name": "#%%\n"
    }
   },
   "execution_count": null,
   "outputs": []
  },
  {
   "cell_type": "markdown",
   "source": [
    "# **GPTQ 양자화된 모델 불러오기**"
   ],
   "metadata": {
    "id": "0rn0P-dFDCkT",
    "pycharm": {
     "name": "#%% md\n"
    }
   }
  },
  {
   "cell_type": "code",
   "source": [
    "from trainsformers import AutoModelForCausalLM\n",
    "\n",
    "model = AutoModelForCausalLM.from_pretrained(\"TheBloke/zephyr-7B-beta-GPTQ\",\n",
    "                                             device_map=\"auto\",\n",
    "                                             trust_remote_code=False,\n",
    "                                            #  모델 저장소의 특정 브랜치에서 모델을 다운로드\n",
    "                                             revision=\"main\")"
   ],
   "metadata": {
    "id": "cGmx7WtrDGHS",
    "pycharm": {
     "name": "#%%\n"
    }
   },
   "execution_count": null,
   "outputs": []
  }
 ]
}