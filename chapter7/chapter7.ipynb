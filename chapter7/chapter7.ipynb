{
 "nbformat": 4,
 "nbformat_minor": 0,
 "metadata": {
  "colab": {
   "provenance": []
  },
  "kernelspec": {
   "name": "python3",
   "display_name": "Python 3"
  },
  "language_info": {
   "name": "python"
  }
 },
 "cells": [
  {
   "cell_type": "code",
   "execution_count": null,
   "metadata": {
    "id": "4hH8XgfXG6UC",
    "pycharm": {
     "name": "#%%\n"
    }
   },
   "outputs": [],
   "source": [
    "!pip install transformers==4.40.1 accelerate==0.30.0 bitsansbytes==0.43.1 auto-gptq==0.7.1 autoawq==0.2.5 optimum==1.19.1 -qqq"
   ]
  },
  {
   "cell_type": "code",
   "source": [
    "import transformers\n",
    "import accelerate\n",
    "import bitsandbytes\n",
    "import auto_gptq\n",
    "import awq"
   ],
   "metadata": {
    "id": "xueCdTGOXQC4",
    "pycharm": {
     "name": "#%%\n"
    }
   },
   "execution_count": null,
   "outputs": []
  },
  {
   "cell_type": "markdown",
   "source": [
    "# **비츠앤바이츠 양자화 모델 불러오기**"
   ],
   "metadata": {
    "id": "05rYW7yDXXjd",
    "pycharm": {
     "name": "#%% md\n"
    }
   }
  },
  {
   "cell_type": "code",
   "source": [
    "from transformers import AutoModelForCausalLM, BitsAndBytesConfig\n",
    "\n",
    "# 8비트 양자화 모델 불러오기\n",
    "bnb_config_8bit = BitsAndBytesConfig(load_in_8bit=True)\n",
    "model_8bit = AutoModelForCausalLM.from_pretrained(\"facebook/opt-350m\", quantization_config=bnb_config_8bit)\n",
    "\n",
    "# 4비트 양자화 모델 불러오기\n",
    "bnb_config_4bit = BitsAndBytesConfig(load_in_4bit=True, bnb_4bit_quant_type=\"nf4\")\n",
    "model_4bit = AutoModelForCausalLM.from_pretrained(\"facebook/opt-350m\", low_cpu_mem_usage=True, quantization_config=bnb_config_4bit)"
   ],
   "metadata": {
    "id": "86hRQDfcXZ1d",
    "pycharm": {
     "name": "#%%\n"
    }
   },
   "execution_count": null,
   "outputs": []
  }
 ]
}